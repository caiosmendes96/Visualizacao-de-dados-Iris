{
 "cells": [
  {
   "cell_type": "markdown",
   "id": "be32dee0",
   "metadata": {},
   "source": [
    "\n",
    "<div align=\"center\">\n",
    "    <h1>Atividade 1 - Caio Sousa Mendes </h1>\n",
    "    <h3>ENGG67- T01 - Tópicos especiais em engenharia de computação </h3>\n",
    "    <h4>Prof.: Antônio C. L. Fernandes Júnior</h4>\n",
    "</div>"
   ]
  },
  {
   "cell_type": "markdown",
   "id": "4ae7294f",
   "metadata": {},
   "source": [
    "Para a resolução dos questionamentos utilizaremos bibliotecas como o <b> pandas </b> e o <b> numpy </b> no python para auxliar na analise dos dados. <br>\n",
    "\n",
    "Abaixo temos a inicialização do banco de dados com uma pré visualização de 10 objetos aleatórios."
   ]
  },
  {
   "cell_type": "code",
   "execution_count": 1,
   "id": "bacb9507",
   "metadata": {},
   "outputs": [
    {
     "data": {
      "text/html": [
       "<div>\n",
       "<style scoped>\n",
       "    .dataframe tbody tr th:only-of-type {\n",
       "        vertical-align: middle;\n",
       "    }\n",
       "\n",
       "    .dataframe tbody tr th {\n",
       "        vertical-align: top;\n",
       "    }\n",
       "\n",
       "    .dataframe thead th {\n",
       "        text-align: right;\n",
       "    }\n",
       "</style>\n",
       "<table border=\"1\" class=\"dataframe\">\n",
       "  <thead>\n",
       "    <tr style=\"text-align: right;\">\n",
       "      <th></th>\n",
       "      <th>Sepal_Length</th>\n",
       "      <th>Sepal_Width</th>\n",
       "      <th>Petal_Length</th>\n",
       "      <th>Petal_Width</th>\n",
       "      <th>Variety</th>\n",
       "    </tr>\n",
       "  </thead>\n",
       "  <tbody>\n",
       "    <tr>\n",
       "      <th>7</th>\n",
       "      <td>5.0</td>\n",
       "      <td>3.4</td>\n",
       "      <td>1.5</td>\n",
       "      <td>0.2</td>\n",
       "      <td>Iris-setosa</td>\n",
       "    </tr>\n",
       "    <tr>\n",
       "      <th>13</th>\n",
       "      <td>4.3</td>\n",
       "      <td>3.0</td>\n",
       "      <td>1.1</td>\n",
       "      <td>0.1</td>\n",
       "      <td>Iris-setosa</td>\n",
       "    </tr>\n",
       "    <tr>\n",
       "      <th>27</th>\n",
       "      <td>5.2</td>\n",
       "      <td>3.5</td>\n",
       "      <td>1.5</td>\n",
       "      <td>0.2</td>\n",
       "      <td>Iris-setosa</td>\n",
       "    </tr>\n",
       "    <tr>\n",
       "      <th>89</th>\n",
       "      <td>5.5</td>\n",
       "      <td>2.5</td>\n",
       "      <td>4.0</td>\n",
       "      <td>1.3</td>\n",
       "      <td>Iris-versicolor</td>\n",
       "    </tr>\n",
       "    <tr>\n",
       "      <th>125</th>\n",
       "      <td>7.2</td>\n",
       "      <td>3.2</td>\n",
       "      <td>6.0</td>\n",
       "      <td>1.8</td>\n",
       "      <td>Iris-virginica</td>\n",
       "    </tr>\n",
       "    <tr>\n",
       "      <th>61</th>\n",
       "      <td>5.9</td>\n",
       "      <td>3.0</td>\n",
       "      <td>4.2</td>\n",
       "      <td>1.5</td>\n",
       "      <td>Iris-versicolor</td>\n",
       "    </tr>\n",
       "    <tr>\n",
       "      <th>5</th>\n",
       "      <td>5.4</td>\n",
       "      <td>3.9</td>\n",
       "      <td>1.7</td>\n",
       "      <td>0.4</td>\n",
       "      <td>Iris-setosa</td>\n",
       "    </tr>\n",
       "    <tr>\n",
       "      <th>19</th>\n",
       "      <td>5.1</td>\n",
       "      <td>3.8</td>\n",
       "      <td>1.5</td>\n",
       "      <td>0.3</td>\n",
       "      <td>Iris-setosa</td>\n",
       "    </tr>\n",
       "    <tr>\n",
       "      <th>113</th>\n",
       "      <td>5.7</td>\n",
       "      <td>2.5</td>\n",
       "      <td>5.0</td>\n",
       "      <td>2.0</td>\n",
       "      <td>Iris-virginica</td>\n",
       "    </tr>\n",
       "    <tr>\n",
       "      <th>37</th>\n",
       "      <td>4.9</td>\n",
       "      <td>3.1</td>\n",
       "      <td>1.5</td>\n",
       "      <td>0.1</td>\n",
       "      <td>Iris-setosa</td>\n",
       "    </tr>\n",
       "  </tbody>\n",
       "</table>\n",
       "</div>"
      ],
      "text/plain": [
       "     Sepal_Length  Sepal_Width  Petal_Length  Petal_Width          Variety\n",
       "7             5.0          3.4           1.5          0.2      Iris-setosa\n",
       "13            4.3          3.0           1.1          0.1      Iris-setosa\n",
       "27            5.2          3.5           1.5          0.2      Iris-setosa\n",
       "89            5.5          2.5           4.0          1.3  Iris-versicolor\n",
       "125           7.2          3.2           6.0          1.8   Iris-virginica\n",
       "61            5.9          3.0           4.2          1.5  Iris-versicolor\n",
       "5             5.4          3.9           1.7          0.4      Iris-setosa\n",
       "19            5.1          3.8           1.5          0.3      Iris-setosa\n",
       "113           5.7          2.5           5.0          2.0   Iris-virginica\n",
       "37            4.9          3.1           1.5          0.1      Iris-setosa"
      ]
     },
     "execution_count": 1,
     "metadata": {},
     "output_type": "execute_result"
    }
   ],
   "source": [
    "import pandas as pd\n",
    "import numpy as np\n",
    "import matplotlib.pyplot as plt\n",
    "import seaborn as sns\n",
    "\n",
    "dados = 'https://archive.ics.uci.edu/ml/machine-learning-databases/iris/iris.data'\n",
    "\n",
    "atributos = ['Sepal_Length','Sepal_Width','Petal_Length','Petal_Width','Variety']\n",
    "\n",
    "iris =  pd.read_csv(dados, names = atributos)\n",
    "\n",
    "iris_Variety = iris['Variety']\n",
    "\n",
    "iris.sample(10)\n",
    "\n"
   ]
  },
  {
   "cell_type": "markdown",
   "id": "42862a3f",
   "metadata": {},
   "source": [
    "<b> a. Caracterize os dados quanto ao Tipo e Escala</b>\n",
    "    \n",
    "     Atributo:     Tipo      -  Escala\n",
    "    \n",
    "     sepal.length: Numérico  -  Racional\n",
    "     sepal.width:  Numérico  -  Racional\n",
    "     petal.length: Numérico  -  Racional\n",
    "     petal.width:  Numérico  -  Racional\n",
    "     Variety:      Categórico - Nominal\n",
    "    "
   ]
  },
  {
   "cell_type": "markdown",
   "id": "38962e8f",
   "metadata": {},
   "source": [
    "<b> b. O conjunto de dados é univariado ou multivariado?\n",
    "    \n",
    "Multivariado, pois cada objeto tem cinco atributos.\n",
    "    "
   ]
  },
  {
   "cell_type": "markdown",
   "id": "7a512ffd",
   "metadata": {},
   "source": [
    "<b> c. Verifique a necessidade de balanceamento dos dados e caracterize estatisticamente os\n",
    "dados\n",
    "    \n",
    " Não há necessidade de balanceamento, pois os objetos estão igualmente distribuidos (50 objetos para cada espécie) do atributo \"Variety\" (setosa, versicolor e virginica). \n",
    "    \n",
    "    \n"
   ]
  },
  {
   "cell_type": "markdown",
   "id": "9d8916cd",
   "metadata": {},
   "source": [
    "<b> d. Analise os dados quanto à sua incompletude, inconsistências, redundâncias e presença\n",
    "de ruído;\n"
   ]
  },
  {
   "cell_type": "markdown",
   "id": "943f54a0",
   "metadata": {},
   "source": [
    "Com o método <b>describe()</b> podemos gerar uma tabela com informações resumidas por atributo do banco de dados para análise."
   ]
  },
  {
   "cell_type": "code",
   "execution_count": 2,
   "id": "63014151",
   "metadata": {},
   "outputs": [
    {
     "data": {
      "text/html": [
       "<div>\n",
       "<style scoped>\n",
       "    .dataframe tbody tr th:only-of-type {\n",
       "        vertical-align: middle;\n",
       "    }\n",
       "\n",
       "    .dataframe tbody tr th {\n",
       "        vertical-align: top;\n",
       "    }\n",
       "\n",
       "    .dataframe thead th {\n",
       "        text-align: right;\n",
       "    }\n",
       "</style>\n",
       "<table border=\"1\" class=\"dataframe\">\n",
       "  <thead>\n",
       "    <tr style=\"text-align: right;\">\n",
       "      <th></th>\n",
       "      <th>Sepal_Length</th>\n",
       "      <th>Sepal_Width</th>\n",
       "      <th>Petal_Length</th>\n",
       "      <th>Petal_Width</th>\n",
       "    </tr>\n",
       "  </thead>\n",
       "  <tbody>\n",
       "    <tr>\n",
       "      <th>count</th>\n",
       "      <td>150.000000</td>\n",
       "      <td>150.000000</td>\n",
       "      <td>150.000000</td>\n",
       "      <td>150.000000</td>\n",
       "    </tr>\n",
       "    <tr>\n",
       "      <th>mean</th>\n",
       "      <td>5.843333</td>\n",
       "      <td>3.054000</td>\n",
       "      <td>3.758667</td>\n",
       "      <td>1.198667</td>\n",
       "    </tr>\n",
       "    <tr>\n",
       "      <th>std</th>\n",
       "      <td>0.828066</td>\n",
       "      <td>0.433594</td>\n",
       "      <td>1.764420</td>\n",
       "      <td>0.763161</td>\n",
       "    </tr>\n",
       "    <tr>\n",
       "      <th>min</th>\n",
       "      <td>4.300000</td>\n",
       "      <td>2.000000</td>\n",
       "      <td>1.000000</td>\n",
       "      <td>0.100000</td>\n",
       "    </tr>\n",
       "    <tr>\n",
       "      <th>25%</th>\n",
       "      <td>5.100000</td>\n",
       "      <td>2.800000</td>\n",
       "      <td>1.600000</td>\n",
       "      <td>0.300000</td>\n",
       "    </tr>\n",
       "    <tr>\n",
       "      <th>50%</th>\n",
       "      <td>5.800000</td>\n",
       "      <td>3.000000</td>\n",
       "      <td>4.350000</td>\n",
       "      <td>1.300000</td>\n",
       "    </tr>\n",
       "    <tr>\n",
       "      <th>75%</th>\n",
       "      <td>6.400000</td>\n",
       "      <td>3.300000</td>\n",
       "      <td>5.100000</td>\n",
       "      <td>1.800000</td>\n",
       "    </tr>\n",
       "    <tr>\n",
       "      <th>max</th>\n",
       "      <td>7.900000</td>\n",
       "      <td>4.400000</td>\n",
       "      <td>6.900000</td>\n",
       "      <td>2.500000</td>\n",
       "    </tr>\n",
       "  </tbody>\n",
       "</table>\n",
       "</div>"
      ],
      "text/plain": [
       "       Sepal_Length  Sepal_Width  Petal_Length  Petal_Width\n",
       "count    150.000000   150.000000    150.000000   150.000000\n",
       "mean       5.843333     3.054000      3.758667     1.198667\n",
       "std        0.828066     0.433594      1.764420     0.763161\n",
       "min        4.300000     2.000000      1.000000     0.100000\n",
       "25%        5.100000     2.800000      1.600000     0.300000\n",
       "50%        5.800000     3.000000      4.350000     1.300000\n",
       "75%        6.400000     3.300000      5.100000     1.800000\n",
       "max        7.900000     4.400000      6.900000     2.500000"
      ]
     },
     "execution_count": 2,
     "metadata": {},
     "output_type": "execute_result"
    }
   ],
   "source": [
    "iris.head()\n",
    "\n",
    "iris.describe()"
   ]
  },
  {
   "cell_type": "markdown",
   "id": "3f95beed",
   "metadata": {},
   "source": [
    "A partir da tabela, podemos afirmar sobre:\n",
    "\n",
    "    Incompletude: Não existe, todos os atributos estão com 150 objetos com valores não nulos.\n",
    "    \n",
    "    Inconsistências: Avaliando os valores mínimo e máximo, não há presença de valores negativos por ser unidade de medida. \n",
    "    \n",
    "    Redundancias: Cada atributo fornece uma informação útil e único, então não existe atributos redundantes.\n",
    "    \n"
   ]
  },
  {
   "cell_type": "markdown",
   "id": "4a9ad918",
   "metadata": {},
   "source": [
    "Para a presença de ruído, vamos gerar um gráfico de dispersão para os atributos \"Sepal_Length\" e \"Sepal_Width\" para análise."
   ]
  },
  {
   "cell_type": "code",
   "execution_count": 3,
   "id": "266678c4",
   "metadata": {},
   "outputs": [
    {
     "data": {
      "image/png": "[encoded data removed]",
      "text/plain": [
       "<Figure size 500x300 with 1 Axes>"
      ]
     },
     "metadata": {},
     "output_type": "display_data"
    }
   ],
   "source": [
    "plt.figure(figsize=(5,3))\n",
    "sns.scatterplot(data = iris, x = 'Sepal_Length', y = 'Sepal_Width', hue = 'Variety', s = 30)\n",
    "plt.title(\"Gráfico de dispersão Sepal_Width vs Sepal_Length\")\n",
    "plt.xlabel('Width')\n",
    "plt.ylabel('Length')\n",
    "plt.show()"
   ]
  },
  {
   "cell_type": "markdown",
   "id": "b0924f91",
   "metadata": {},
   "source": [
    "    Presença de ruído: A partir do gráfico de dispersão para esse par de atributos, é possivel identificar alguns objetos mais afastados da concentração maior da sua mesma \"Variety\". Com isso, há indícios de dados ruidosos mas não podemos afirmar com certeza."
   ]
  },
  {
   "cell_type": "markdown",
   "id": "ea1b2f65",
   "metadata": {},
   "source": [
    "<b> e. Promova uma transformação de dados consistente com o banco sob análise\n",
    "\n",
    "Transformação de dados categóricos para dados numéricos:\n",
    "    \n",
    "    Setosa: 0\n",
    "    Versicolor: 1\n",
    "    Virginica: 2\n",
    "    "
   ]
  },
  {
   "cell_type": "code",
   "execution_count": 4,
   "id": "ddd25d53",
   "metadata": {},
   "outputs": [
    {
     "data": {
      "text/html": [
       "<div>\n",
       "<style scoped>\n",
       "    .dataframe tbody tr th:only-of-type {\n",
       "        vertical-align: middle;\n",
       "    }\n",
       "\n",
       "    .dataframe tbody tr th {\n",
       "        vertical-align: top;\n",
       "    }\n",
       "\n",
       "    .dataframe thead th {\n",
       "        text-align: right;\n",
       "    }\n",
       "</style>\n",
       "<table border=\"1\" class=\"dataframe\">\n",
       "  <thead>\n",
       "    <tr style=\"text-align: right;\">\n",
       "      <th></th>\n",
       "      <th>Sepal_Length</th>\n",
       "      <th>Sepal_Width</th>\n",
       "      <th>Petal_Length</th>\n",
       "      <th>Petal_Width</th>\n",
       "      <th>Variety_num</th>\n",
       "    </tr>\n",
       "  </thead>\n",
       "  <tbody>\n",
       "    <tr>\n",
       "      <th>141</th>\n",
       "      <td>6.9</td>\n",
       "      <td>3.1</td>\n",
       "      <td>5.1</td>\n",
       "      <td>2.3</td>\n",
       "      <td>2</td>\n",
       "    </tr>\n",
       "    <tr>\n",
       "      <th>72</th>\n",
       "      <td>6.3</td>\n",
       "      <td>2.5</td>\n",
       "      <td>4.9</td>\n",
       "      <td>1.5</td>\n",
       "      <td>1</td>\n",
       "    </tr>\n",
       "    <tr>\n",
       "      <th>22</th>\n",
       "      <td>4.6</td>\n",
       "      <td>3.6</td>\n",
       "      <td>1.0</td>\n",
       "      <td>0.2</td>\n",
       "      <td>0</td>\n",
       "    </tr>\n",
       "    <tr>\n",
       "      <th>75</th>\n",
       "      <td>6.6</td>\n",
       "      <td>3.0</td>\n",
       "      <td>4.4</td>\n",
       "      <td>1.4</td>\n",
       "      <td>1</td>\n",
       "    </tr>\n",
       "    <tr>\n",
       "      <th>111</th>\n",
       "      <td>6.4</td>\n",
       "      <td>2.7</td>\n",
       "      <td>5.3</td>\n",
       "      <td>1.9</td>\n",
       "      <td>2</td>\n",
       "    </tr>\n",
       "  </tbody>\n",
       "</table>\n",
       "</div>"
      ],
      "text/plain": [
       "     Sepal_Length  Sepal_Width  Petal_Length  Petal_Width  Variety_num\n",
       "141           6.9          3.1           5.1          2.3            2\n",
       "72            6.3          2.5           4.9          1.5            1\n",
       "22            4.6          3.6           1.0          0.2            0\n",
       "75            6.6          3.0           4.4          1.4            1\n",
       "111           6.4          2.7           5.3          1.9            2"
      ]
     },
     "execution_count": 4,
     "metadata": {},
     "output_type": "execute_result"
    }
   ],
   "source": [
    "transformacao = {'Iris-setosa': 0, 'Iris-versicolor': 1, 'Iris-virginica': 2}\n",
    "\n",
    "iris['Variety_num'] = iris['Variety'].map(transformacao)\n",
    "iris = iris.drop(columns = 'Variety')\n",
    "iris.sample(5)"
   ]
  },
  {
   "cell_type": "markdown",
   "id": "31beb378",
   "metadata": {},
   "source": [
    "<b> f.  Utilize a análise de componentes principais (PCA) para gerar gráficos no espaço de\n",
    "atributos."
   ]
  },
  {
   "cell_type": "code",
   "execution_count": 8,
   "id": "92a413b4",
   "metadata": {},
   "outputs": [
    {
     "name": "stderr",
     "output_type": "stream",
     "text": [
      "C:\\Users\\caios\\anaconda3\\Lib\\site-packages\\seaborn\\axisgrid.py:118: UserWarning: The figure layout has changed to tight\n",
      "  self._figure.tight_layout(*args, **kwargs)\n"
     ]
    },
    {
     "data": {
      "image/png": "[encoded data removed]",
      "text/plain": [
       "<Figure size 643x500 with 1 Axes>"
      ]
     },
     "metadata": {},
     "output_type": "display_data"
    }
   ],
   "source": [
    "from sklearn.decomposition import PCA\n",
    "from sklearn.preprocessing import StandardScaler\n",
    "\n",
    "pca = PCA(n_components=2)\n",
    "\n",
    "iris_scaled = StandardScaler().fit_transform(iris)\n",
    "\n",
    "pca_features = pca.fit_transform(iris_scaled)\n",
    "\n",
    "pca_df = pd.DataFrame(\n",
    "    data=pca_features, \n",
    "    columns=['PC1', 'PC2'])\n",
    "\n",
    "variety_names = {\n",
    "    0:'Iris-setosa',\n",
    "    1:'Iris-versicolor', \n",
    "    2:'Iris-virginica'\n",
    "}\n",
    "\n",
    "pca_df['Variety_num'] = iris['Variety_num'] \n",
    "pca_df['Variety_num'] = pca_df['Variety_num'].map(variety_names)\n",
    "\n",
    "\n",
    "sns.lmplot(\n",
    "    x='PC1', \n",
    "    y='PC2', \n",
    "    data=pca_df, \n",
    "    hue='Variety_num', \n",
    "    fit_reg=False\n",
    "    )\n",
    "\n",
    "plt.title('Gráfico PCA 2 (componentes principais)')\n",
    "plt.show()"
   ]
  },
  {
   "cell_type": "code",
   "execution_count": null,
   "id": "e4fac3ec",
   "metadata": {},
   "outputs": [],
   "source": []
  }
 ],
 "metadata": {
  "kernelspec": {
   "display_name": "Python 3 (ipykernel)",
   "language": "python",
   "name": "python3"
  },
  "language_info": {
   "codemirror_mode": {
    "name": "ipython",
    "version": 3
   },
   "file_extension": ".py",
   "mimetype": "text/x-python",
   "name": "python",
   "nbconvert_exporter": "python",
   "pygments_lexer": "ipython3",
   "version": "3.11.5"
  }
 },
 "nbformat": 4,
 "nbformat_minor": 5
}
